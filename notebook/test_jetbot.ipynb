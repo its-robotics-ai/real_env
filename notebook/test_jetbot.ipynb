{
 "cells": [
  {
   "cell_type": "markdown",
   "id": "liquid-young",
   "metadata": {
    "pycharm": {
     "name": "#%% md\n"
    }
   },
   "source": [
    "# Test Jetbot\n",
    "\n",
    "Welcome to JetBot's browser based programming interface!  </br>This document is\n",
    "called a *Jupyter Notebook*, which combines text, code, and graphic display all in one.</br>\n",
    "In this notebook, we'll test basic motions of JetBot. \n",
    "\n",
    "### Importing the Robot class\n",
    "\n",
    "To get started programming JetBot, we'll need to import the ``Robot`` class.  This class\n",
    "allows us to easily control the robot's motors!  This is contained in the ``jetbot`` package.\n",
    "\n",
    "> If you're new to Python, a *package* is essentially a folder containing \n",
    "> code files.  These code files are called *modules*.\n",
    "\n",
    "To import the ``Robot`` class, highlight the cell below and press ``ctrl + enter`` or the ``play`` icon above.\n",
    "This will execute the code contained in the cell"
   ]
  },
  {
   "cell_type": "code",
   "execution_count": 1,
   "id": "interracial-schedule",
   "metadata": {
    "pycharm": {
     "name": "#%%\n"
    }
   },
   "outputs": [],
   "source": [
    "from jetbot import Robot"
   ]
  },
  {
   "cell_type": "markdown",
   "id": "dedicated-parish",
   "metadata": {
    "pycharm": {
     "name": "#%% md\n"
    }
   },
   "source": [
    "Now that we've imported the ``Robot`` class we can initialize the class *instance* as follows. "
   ]
  },
  {
   "cell_type": "code",
   "execution_count": 2,
   "id": "charitable-choice",
   "metadata": {
    "pycharm": {
     "name": "#%%\n"
    }
   },
   "outputs": [],
   "source": [
    "robot = Robot()"
   ]
  },
  {
   "cell_type": "markdown",
   "id": "classified-lounge",
   "metadata": {
    "pycharm": {
     "name": "#%% md\n"
    }
   },
   "source": [
    "### Commanding the robot"
   ]
  },
  {
   "cell_type": "markdown",
   "id": "center-nigeria",
   "metadata": {
    "pycharm": {
     "name": "#%% md\n"
    }
   },
   "source": [
    "Now that we've created our ``Robot`` instance we named \"robot\", we can use this instance\n",
    "to control the robot.  To make the robot spin counterclockwise at 10% of it's max speed\n",
    "we can call the following\n",
    "\n",
    "> WARNING:  This next command will make the robot move!  Please make sure the robot has clearance."
   ]
  },
  {
   "cell_type": "code",
   "execution_count": 8,
   "id": "moderate-unemployment",
   "metadata": {
    "pycharm": {
     "name": "#%%\n"
    }
   },
   "outputs": [],
   "source": [
    "robot.left(speed=0.1)"
   ]
  },
  {
   "cell_type": "code",
   "execution_count": 9,
   "id": "executive-citation",
   "metadata": {
    "pycharm": {
     "name": "#%%\n"
    }
   },
   "outputs": [],
   "source": [
    "robot.stop()"
   ]
  },
  {
   "cell_type": "code",
   "execution_count": 10,
   "id": "accompanied-notebook",
   "metadata": {
    "pycharm": {
     "name": "#%%\n"
    }
   },
   "outputs": [],
   "source": [
    "robot.right(speed=0.1)"
   ]
  },
  {
   "cell_type": "code",
   "execution_count": 11,
   "id": "chubby-friday",
   "metadata": {
    "pycharm": {
     "name": "#%%\n"
    }
   },
   "outputs": [],
   "source": [
    "robot.stop()"
   ]
  },
  {
   "cell_type": "code",
   "execution_count": 12,
   "id": "bridal-chair",
   "metadata": {
    "pycharm": {
     "name": "#%%\n"
    }
   },
   "outputs": [],
   "source": [
    "import time"
   ]
  },
  {
   "cell_type": "code",
   "execution_count": 13,
   "id": "approved-feature",
   "metadata": {
    "pycharm": {
     "name": "#%%\n"
    }
   },
   "outputs": [],
   "source": [
    "robot.forward(0.3)\n",
    "time.sleep(1.0)\n",
    "robot.stop()"
   ]
  },
  {
   "cell_type": "markdown",
   "id": "organized-extension",
   "metadata": {
    "pycharm": {
     "name": "#%% md\n"
    }
   },
   "source": [
    "### Create and display Image widget\n",
    "\n",
    "First, let's display an ``Image`` widget that we'll use to show our live camera feed.  We'll set the ``height`` and ``width``\n",
    "to just 300 pixels so it doesn't take up too much space.\n",
    "\n",
    "> FYI: The height and width only effect the rendering on the browser side, not the native image resolution before network transport from robot to browser."
   ]
  },
  {
   "cell_type": "code",
   "execution_count": 4,
   "id": "arabic-latex",
   "metadata": {
    "pycharm": {
     "name": "#%%\n"
    }
   },
   "outputs": [
    {
     "data": {
      "application/vnd.jupyter.widget-view+json": {
       "model_id": "384e11e8da9748b793a0bd3e0456438e",
       "version_major": 2,
       "version_minor": 0
      },
      "text/plain": [
       "Image(value=b'', format='jpeg', height='300', width='300')"
      ]
     },
     "metadata": {},
     "output_type": "display_data"
    }
   ],
   "source": [
    "import ipywidgets.widgets as widgets\n",
    "\n",
    "image = widgets.Image(format='jpeg', width=300, height=300)\n",
    "\n",
    "display(image)"
   ]
  },
  {
   "cell_type": "markdown",
   "id": "earlier-ministry",
   "metadata": {
    "pycharm": {
     "name": "#%% md\n"
    }
   },
   "source": [
    "### Create camera instance\n",
    "\n",
    "Well, right now there's no image presented, because we haven't set the value yet!  We can do this by creating our ``Camera``\n",
    "class and attaching the ``value`` attribute of the camera to the ``value attribute of the image.\n",
    "\n",
    "First, let's create the camera instance, we call the ``instance`` method which will create a new camera\n",
    "if it hasn't been created yet.  If once already exists, this method will return the existing camera."
   ]
  },
  {
   "cell_type": "code",
   "execution_count": 5,
   "id": "funny-tomorrow",
   "metadata": {
    "pycharm": {
     "name": "#%%\n"
    }
   },
   "outputs": [],
   "source": [
    "from jetbot import Camera\n",
    "\n",
    "camera = Camera.instance()"
   ]
  },
  {
   "cell_type": "markdown",
   "id": "facial-serum",
   "metadata": {
    "pycharm": {
     "name": "#%% md\n"
    }
   },
   "source": [
    "Our camera class currently only produces values in BGR8 (blue, green, red, 8bit) format, while our image widget accepts values in compressed *JPEG*.\n",
    "To connect the camera to the image we need to insert the ``bgr8_to_jpeg`` function as a transform in the link.  We do this below"
   ]
  },
  {
   "cell_type": "code",
   "execution_count": 7,
   "id": "generic-welding",
   "metadata": {
    "pycharm": {
     "name": "#%%\n"
    }
   },
   "outputs": [],
   "source": [
    "from jetbot import bgr8_to_jpeg\n",
    "import traitlets\n",
    "\n",
    "camera_link = traitlets.dlink((camera, 'value'), (image, 'value'), transform=bgr8_to_jpeg)"
   ]
  },
  {
   "cell_type": "code",
   "execution_count": 14,
   "id": "conceptual-debut",
   "metadata": {
    "pycharm": {
     "name": "#%%\n"
    }
   },
   "outputs": [],
   "source": [
    "camera_link.unlink()\n",
    "robot.stop()"
   ]
  }
 ],
 "metadata": {
  "kernelspec": {
   "display_name": "Python 3",
   "language": "python",
   "name": "python3"
  },
  "language_info": {
   "codemirror_mode": {
    "name": "ipython",
    "version": 3
   },
   "file_extension": ".py",
   "mimetype": "text/x-python",
   "name": "python",
   "nbconvert_exporter": "python",
   "pygments_lexer": "ipython3",
   "version": "3.6.9"
  }
 },
 "nbformat": 4,
 "nbformat_minor": 5
}